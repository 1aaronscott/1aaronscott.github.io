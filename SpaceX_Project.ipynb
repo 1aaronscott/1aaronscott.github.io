{
  "nbformat": 4,
  "nbformat_minor": 0,
  "metadata": {
    "colab": {
      "name": "SpaceX Project.ipynb",
      "version": "0.3.2",
      "provenance": []
    },
    "kernelspec": {
      "name": "python3",
      "display_name": "Python 3"
    }
  },
  "cells": [
    {
      "cell_type": "markdown",
      "metadata": {
        "id": "6_hl8dxjiDqM",
        "colab_type": "text"
      },
      "source": [
        "# Start Here"
      ]
    },
    {
      "cell_type": "code",
      "metadata": {
        "id": "Z49GYwaOx4kO",
        "colab_type": "code",
        "outputId": "63d49620-a56f-4e00-8f47-8b264402d6e4",
        "colab": {
          "base_uri": "https://localhost:8080/",
          "height": 323
        }
      },
      "source": [
        "!pip install pandas==0.23.4"
      ],
      "execution_count": 1,
      "outputs": [
        {
          "output_type": "stream",
          "text": [
            "Collecting pandas==0.23.4\n",
            "\u001b[?25l  Downloading https://files.pythonhosted.org/packages/e1/d8/feeb346d41f181e83fba45224ab14a8d8af019b48af742e047f3845d8cff/pandas-0.23.4-cp36-cp36m-manylinux1_x86_64.whl (8.9MB)\n",
            "\u001b[K     |████████████████████████████████| 8.9MB 4.3MB/s \n",
            "\u001b[?25hRequirement already satisfied: numpy>=1.9.0 in /usr/local/lib/python3.6/dist-packages (from pandas==0.23.4) (1.16.4)\n",
            "Requirement already satisfied: python-dateutil>=2.5.0 in /usr/local/lib/python3.6/dist-packages (from pandas==0.23.4) (2.5.3)\n",
            "Requirement already satisfied: pytz>=2011k in /usr/local/lib/python3.6/dist-packages (from pandas==0.23.4) (2018.9)\n",
            "Requirement already satisfied: six>=1.5 in /usr/local/lib/python3.6/dist-packages (from python-dateutil>=2.5.0->pandas==0.23.4) (1.12.0)\n",
            "\u001b[31mERROR: google-colab 1.0.0 has requirement pandas~=0.24.0, but you'll have pandas 0.23.4 which is incompatible.\u001b[0m\n",
            "Installing collected packages: pandas\n",
            "  Found existing installation: pandas 0.24.2\n",
            "    Uninstalling pandas-0.24.2:\n",
            "      Successfully uninstalled pandas-0.24.2\n",
            "Successfully installed pandas-0.23.4\n"
          ],
          "name": "stdout"
        },
        {
          "output_type": "display_data",
          "data": {
            "application/vnd.colab-display-data+json": {
              "pip_warning": {
                "packages": [
                  "pandas"
                ]
              }
            }
          },
          "metadata": {
            "tags": []
          }
        }
      ]
    },
    {
      "cell_type": "code",
      "metadata": {
        "id": "JMKODI--x-Le",
        "colab_type": "code",
        "outputId": "c04b3c4b-8de9-400d-aec6-55c892fda24f",
        "colab": {
          "base_uri": "https://localhost:8080/",
          "height": 122
        }
      },
      "source": [
        "from google.colab import drive\n",
        "drive.mount('/content/drive')"
      ],
      "execution_count": 1,
      "outputs": [
        {
          "output_type": "stream",
          "text": [
            "Go to this URL in a browser: https://accounts.google.com/o/oauth2/auth?client_id=947318989803-6bn6qk8qdgf4n4g3pfee6491hc0brc4i.apps.googleusercontent.com&redirect_uri=urn%3Aietf%3Awg%3Aoauth%3A2.0%3Aoob&scope=email%20https%3A%2F%2Fwww.googleapis.com%2Fauth%2Fdocs.test%20https%3A%2F%2Fwww.googleapis.com%2Fauth%2Fdrive%20https%3A%2F%2Fwww.googleapis.com%2Fauth%2Fdrive.photos.readonly%20https%3A%2F%2Fwww.googleapis.com%2Fauth%2Fpeopleapi.readonly&response_type=code\n",
            "\n",
            "Enter your authorization code:\n",
            "··········\n",
            "Mounted at /content/drive\n"
          ],
          "name": "stdout"
        }
      ]
    },
    {
      "cell_type": "code",
      "metadata": {
        "id": "nkDTLC4FzmIP",
        "colab_type": "code",
        "colab": {}
      },
      "source": [
        "# with open('/content/drive/My Drive/spacex_launch_data.csv', 'w') as f:\n",
        "#   f.write('Hello Google Drive!')"
      ],
      "execution_count": 0,
      "outputs": []
    },
    {
      "cell_type": "code",
      "metadata": {
        "id": "ba6A9fnpzs0J",
        "colab_type": "code",
        "colab": {}
      },
      "source": [
        "import pandas as pd\n",
        "pd.set_option('display.max_rows', 500)\n",
        "pd.set_option('display.max_columns', 500) # shows all\n",
        "pd.set_option('display.width', 1000)"
      ],
      "execution_count": 0,
      "outputs": []
    },
    {
      "cell_type": "code",
      "metadata": {
        "id": "gmTDmFiwzvJv",
        "colab_type": "code",
        "colab": {}
      },
      "source": [
        "df = pd.read_csv('/content/drive/My Drive/spacex_launch_data.csv', na_values=\"Classified\")"
      ],
      "execution_count": 0,
      "outputs": []
    },
    {
      "cell_type": "code",
      "metadata": {
        "id": "TuVmcHo9z4t-",
        "colab_type": "code",
        "colab": {}
      },
      "source": [
        "df"
      ],
      "execution_count": 0,
      "outputs": []
    },
    {
      "cell_type": "code",
      "metadata": {
        "id": "LCbmGQCUb08V",
        "colab_type": "code",
        "colab": {}
      },
      "source": [
        "import datetime\n",
        "import time\n",
        "df2 = df.copy()\n",
        "# df['col'] = pd.to_datetime(df['col'])\n",
        "\n",
        "df2.Date = pd.to_datetime(df.Date)\n",
        "# df2['Time (UTC)'] = pd.to_datetime(df2['Time (UTC)'])\n",
        "# df2"
      ],
      "execution_count": 0,
      "outputs": []
    },
    {
      "cell_type": "code",
      "metadata": {
        "id": "KHVgaZ_r0MLI",
        "colab_type": "code",
        "colab": {}
      },
      "source": [
        "df2.dtypes"
      ],
      "execution_count": 0,
      "outputs": []
    },
    {
      "cell_type": "code",
      "metadata": {
        "id": "nvjj3ce01ko0",
        "colab_type": "code",
        "colab": {}
      },
      "source": [
        "df2.isnull().sum()"
      ],
      "execution_count": 0,
      "outputs": []
    },
    {
      "cell_type": "code",
      "metadata": {
        "id": "sSQlC_H7b0Ip",
        "colab_type": "code",
        "colab": {}
      },
      "source": [
        "df2.iloc[0,6] = 0\n",
        "df2.iloc[1,6] = 0\n",
        "# df2.head()"
      ],
      "execution_count": 0,
      "outputs": []
    },
    {
      "cell_type": "code",
      "metadata": {
        "id": "HHmoUI_scCIg",
        "colab_type": "code",
        "outputId": "65136009-0766-485a-ee01-b3d550d93cf0",
        "colab": {
          "base_uri": "https://localhost:8080/",
          "height": 34
        }
      },
      "source": [
        "df2.shape"
      ],
      "execution_count": 0,
      "outputs": [
        {
          "output_type": "execute_result",
          "data": {
            "text/plain": [
              "(79, 11)"
            ]
          },
          "metadata": {
            "tags": []
          },
          "execution_count": 72
        }
      ]
    },
    {
      "cell_type": "code",
      "metadata": {
        "id": "wj8-6HeedUNb",
        "colab_type": "code",
        "colab": {}
      },
      "source": [
        "df3 = df2.dropna()"
      ],
      "execution_count": 0,
      "outputs": []
    },
    {
      "cell_type": "code",
      "metadata": {
        "id": "HdTl-0MTdiYo",
        "colab_type": "code",
        "outputId": "e9403afc-19dc-4d14-ea87-c71307f9e6c1",
        "colab": {
          "base_uri": "https://localhost:8080/",
          "height": 34
        }
      },
      "source": [
        "df3.shape"
      ],
      "execution_count": 0,
      "outputs": [
        {
          "output_type": "execute_result",
          "data": {
            "text/plain": [
              "(77, 11)"
            ]
          },
          "metadata": {
            "tags": []
          },
          "execution_count": 7
        }
      ]
    },
    {
      "cell_type": "code",
      "metadata": {
        "id": "H6z26DkhdjiA",
        "colab_type": "code",
        "colab": {}
      },
      "source": [
        "df3.dtypes"
      ],
      "execution_count": 0,
      "outputs": []
    },
    {
      "cell_type": "code",
      "metadata": {
        "id": "Iv40r5O5i40L",
        "colab_type": "code",
        "outputId": "73ef0f62-b740-4d76-8de8-05cb41f278cb",
        "colab": {
          "base_uri": "https://localhost:8080/",
          "height": 680
        }
      },
      "source": [
        "df3.Customer.value_counts(dropna=False)"
      ],
      "execution_count": 0,
      "outputs": [
        {
          "output_type": "execute_result",
          "data": {
            "text/plain": [
              "NASA (CRS)                              16\n",
              "Iridium Communications                   7\n",
              "U.S. Air Force                           5\n",
              "SES                                      5\n",
              "SpaceX                                   3\n",
              "Arabsat                                  3\n",
              "SKY Perfect JSAT Group                   2\n",
              "AsiaSat                                  2\n",
              "ABS Eutelsat                             2\n",
              "Telesat                                  2\n",
              "Orbcomm                                  2\n",
              "Thaicom                                  2\n",
              "PSN SpaceIL / IAI Air Force Research     1\n",
              "NASA (COTS) NRO                          1\n",
              "KT Corporation                           1\n",
              "NASA (COTS)                              1\n",
              "Bulsatcom                                1\n",
              "U.S. Air Force NASA NOAA                 1\n",
              "Inmarsat                                 1\n",
              "Canadian Space Agency                    1\n",
              "NASA (CCD)                               1\n",
              "Iridium Communications GFZ • NASA        1\n",
              "NSPO                                     1\n",
              "Telkom Indonesia                         1\n",
              "CONAE                                    1\n",
              "Hisdesat exactEarth SpaceX               1\n",
              "Hispasat  NovaWurks                      1\n",
              "Spaceflight Industries                   1\n",
              "EchoStar                                 1\n",
              "Thales-Alenia/BTRC                       1\n",
              "NASA (LSP)                               1\n",
              "NASA (LSP) NOAA CNES                     1\n",
              "SES EchoStar                             1\n",
              "Es'hailSat                               1\n",
              "Intelsat                                 1\n",
              "NASA                                     1\n",
              "MDA                                      1\n",
              "Turkmenistan National Space Agency       1\n",
              "Name: Customer, dtype: int64"
            ]
          },
          "metadata": {
            "tags": []
          },
          "execution_count": 35
        }
      ]
    },
    {
      "cell_type": "code",
      "metadata": {
        "id": "BkFzyzefyfRL",
        "colab_type": "code",
        "colab": {}
      },
      "source": [
        "df3.Customer.unique()"
      ],
      "execution_count": 0,
      "outputs": []
    },
    {
      "cell_type": "code",
      "metadata": {
        "id": "Beg_ZFmtuf-2",
        "colab_type": "code",
        "outputId": "b5b648ff-d4c7-43f8-ab93-4e7038d11eab",
        "colab": {
          "base_uri": "https://localhost:8080/",
          "height": 119
        }
      },
      "source": [
        "def priv_pub(group):\n",
        "  if group in ['NASA (COTS) NRO', 'NASA (COTS)', 'NASA (CRS)', 'U.S. Air Force NASA NOAA', \n",
        "               'Turkmenistan National Space Agency', 'NASA (LSP) NOAA CNES',\n",
        "              'U.S. Air Force', 'NASA (LSP)','NASA (CCD)', 'Arabsat', 'NASA', \n",
        "               'Canadian Space Agency', 'CONAE']:\n",
        "    return 'Public'\n",
        "  else:\n",
        "    return 'Private'\n",
        "\n",
        "df3['PubPriv'] = df3['Customer'].apply(priv_pub)"
      ],
      "execution_count": 7,
      "outputs": [
        {
          "output_type": "stream",
          "text": [
            "/usr/local/lib/python3.6/dist-packages/ipykernel_launcher.py:10: SettingWithCopyWarning: \n",
            "A value is trying to be set on a copy of a slice from a DataFrame.\n",
            "Try using .loc[row_indexer,col_indexer] = value instead\n",
            "\n",
            "See the caveats in the documentation: http://pandas.pydata.org/pandas-docs/stable/indexing.html#indexing-view-versus-copy\n",
            "  # Remove the CWD from sys.path while we load stuff.\n"
          ],
          "name": "stderr"
        }
      ]
    },
    {
      "cell_type": "code",
      "metadata": {
        "id": "v3SpSiju1_jQ",
        "colab_type": "code",
        "outputId": "3ac09756-374f-458a-d787-b34a857a1b2c",
        "colab": {
          "base_uri": "https://localhost:8080/",
          "height": 119
        }
      },
      "source": [
        "def fail_succ_MO(group):\n",
        "  if group == 'Failure  (in flight)':\n",
        "    return False\n",
        "  else:\n",
        "    return True\n",
        "  \n",
        "df3['Mission Success'] = df3['Mission Outcome'].apply(fail_succ_MO)"
      ],
      "execution_count": 8,
      "outputs": [
        {
          "output_type": "stream",
          "text": [
            "/usr/local/lib/python3.6/dist-packages/ipykernel_launcher.py:7: SettingWithCopyWarning: \n",
            "A value is trying to be set on a copy of a slice from a DataFrame.\n",
            "Try using .loc[row_indexer,col_indexer] = value instead\n",
            "\n",
            "See the caveats in the documentation: http://pandas.pydata.org/pandas-docs/stable/indexing.html#indexing-view-versus-copy\n",
            "  import sys\n"
          ],
          "name": "stderr"
        }
      ]
    },
    {
      "cell_type": "code",
      "metadata": {
        "id": "Y2aLDSVy8NNW",
        "colab_type": "code",
        "outputId": "eb9b683d-a80f-4de0-e183-7dc473a867fb",
        "colab": {
          "base_uri": "https://localhost:8080/",
          "height": 119
        }
      },
      "source": [
        "def fail_succ_LO(group):\n",
        "  if group in ['Failure   (parachute)', 'Failure  (drone ship)', 'Failure (drone ship)', \n",
        "               'Failure (drone ship)', 'Failure  (ground pad)', 'Failure   (drone ship)']:\n",
        "    return False\n",
        "  else:\n",
        "    return True\n",
        "#   print(type(group))\n",
        "#   if group == 'Failure  (in flight)':\n",
        "#     return False\n",
        "#   else:\n",
        "#     return True\n",
        "  \n",
        "\n",
        "# df3 = df3.drop('Landing Success', 1)\n",
        "df3['Landing Success'] = df3['Landing Outcome'].apply(fail_succ_LO)"
      ],
      "execution_count": 9,
      "outputs": [
        {
          "output_type": "stream",
          "text": [
            "/usr/local/lib/python3.6/dist-packages/ipykernel_launcher.py:15: SettingWithCopyWarning: \n",
            "A value is trying to be set on a copy of a slice from a DataFrame.\n",
            "Try using .loc[row_indexer,col_indexer] = value instead\n",
            "\n",
            "See the caveats in the documentation: http://pandas.pydata.org/pandas-docs/stable/indexing.html#indexing-view-versus-copy\n",
            "  from ipykernel import kernelapp as app\n"
          ],
          "name": "stderr"
        }
      ]
    },
    {
      "cell_type": "code",
      "metadata": {
        "id": "GevsXJ7h2P6n",
        "colab_type": "code",
        "colab": {}
      },
      "source": [
        "df3['Mission Outcome'].unique()"
      ],
      "execution_count": 0,
      "outputs": []
    },
    {
      "cell_type": "code",
      "metadata": {
        "id": "JQIxMc7w3CsV",
        "colab_type": "code",
        "outputId": "929fe324-da1e-4ad8-b4c6-558d1b251616",
        "colab": {
          "base_uri": "https://localhost:8080/",
          "height": 51
        }
      },
      "source": [
        "df3 = df3.apply(lambda x: x.str.strip() if x.dtype == \"object\" else x)\n",
        "df3['Mission Outcome'].unique()"
      ],
      "execution_count": 0,
      "outputs": [
        {
          "output_type": "execute_result",
          "data": {
            "text/plain": [
              "array(['Success', 'Failure  (in flight)',\n",
              "       'Success  (payload\\xa0status unclear)'], dtype=object)"
            ]
          },
          "metadata": {
            "tags": []
          },
          "execution_count": 48
        }
      ]
    },
    {
      "cell_type": "code",
      "metadata": {
        "id": "-yQNBPXK3ZXL",
        "colab_type": "code",
        "outputId": "0fd72980-7369-43ca-c940-d6f9011dd078",
        "colab": {
          "base_uri": "https://localhost:8080/",
          "height": 153
        }
      },
      "source": [
        "df3['Landing Outcome'].unique()"
      ],
      "execution_count": 0,
      "outputs": [
        {
          "output_type": "execute_result",
          "data": {
            "text/plain": [
              "array(['Failure   (parachute)', 'No attempt', 'Uncontrolled (ocean)',\n",
              "       'Controlled (ocean)', 'Failure  (drone ship)',\n",
              "       'Precluded  (drone ship)', 'Success  (ground pad)',\n",
              "       'Failure (drone ship)', 'Success  (drone ship)',\n",
              "       'Success (drone ship)', 'Success (ground pad)',\n",
              "       'Success (ground pad), Failure (drone ship), Success (ground pad)',\n",
              "       'Success   (drone ship)', 'Failure  (ground pad)',\n",
              "       'Failure   (drone ship)', 'Success   (ground pad)'], dtype=object)"
            ]
          },
          "metadata": {
            "tags": []
          },
          "execution_count": 49
        }
      ]
    },
    {
      "cell_type": "code",
      "metadata": {
        "id": "-GUGwpPJ1AJP",
        "colab_type": "code",
        "outputId": "c67f44ed-4b36-4c88-eb5e-d03af87e28ce",
        "colab": {
          "base_uri": "https://localhost:8080/",
          "height": 306
        }
      },
      "source": [
        "df3.head()"
      ],
      "execution_count": 41,
      "outputs": [
        {
          "output_type": "execute_result",
          "data": {
            "text/html": [
              "<div>\n",
              "<style scoped>\n",
              "    .dataframe tbody tr th:only-of-type {\n",
              "        vertical-align: middle;\n",
              "    }\n",
              "\n",
              "    .dataframe tbody tr th {\n",
              "        vertical-align: top;\n",
              "    }\n",
              "\n",
              "    .dataframe thead th {\n",
              "        text-align: right;\n",
              "    }\n",
              "</style>\n",
              "<table border=\"1\" class=\"dataframe\">\n",
              "  <thead>\n",
              "    <tr style=\"text-align: right;\">\n",
              "      <th></th>\n",
              "      <th>Flight Number</th>\n",
              "      <th>Date</th>\n",
              "      <th>Time (UTC)</th>\n",
              "      <th>Booster Version</th>\n",
              "      <th>Launch Site</th>\n",
              "      <th>Payload</th>\n",
              "      <th>Payload Mass (kg)</th>\n",
              "      <th>Orbit</th>\n",
              "      <th>Customer</th>\n",
              "      <th>Mission Outcome</th>\n",
              "      <th>Landing Outcome</th>\n",
              "      <th>PubPriv</th>\n",
              "      <th>Mission Success</th>\n",
              "      <th>Landing Success</th>\n",
              "    </tr>\n",
              "  </thead>\n",
              "  <tbody>\n",
              "    <tr>\n",
              "      <th>0</th>\n",
              "      <td>1</td>\n",
              "      <td>2010-06-04</td>\n",
              "      <td>18:45:00</td>\n",
              "      <td>F9 v1.0  B0003</td>\n",
              "      <td>CCAFS LC-40</td>\n",
              "      <td>Dragon Spacecraft Qualification Unit</td>\n",
              "      <td>0.0</td>\n",
              "      <td>LEO</td>\n",
              "      <td>SpaceX</td>\n",
              "      <td>Success</td>\n",
              "      <td>Failure   (parachute)</td>\n",
              "      <td>Private</td>\n",
              "      <td>True</td>\n",
              "      <td>False</td>\n",
              "    </tr>\n",
              "    <tr>\n",
              "      <th>1</th>\n",
              "      <td>2</td>\n",
              "      <td>2010-12-08</td>\n",
              "      <td>15:43:00</td>\n",
              "      <td>F9 v1.0  B0004</td>\n",
              "      <td>CCAFS LC-40</td>\n",
              "      <td>Dragon demo flight C1, two CubeSats,  barrel o...</td>\n",
              "      <td>0.0</td>\n",
              "      <td>LEO (ISS)</td>\n",
              "      <td>NASA (COTS) NRO</td>\n",
              "      <td>Success</td>\n",
              "      <td>Failure   (parachute)</td>\n",
              "      <td>Public</td>\n",
              "      <td>True</td>\n",
              "      <td>False</td>\n",
              "    </tr>\n",
              "    <tr>\n",
              "      <th>2</th>\n",
              "      <td>3</td>\n",
              "      <td>2012-05-22</td>\n",
              "      <td>7:44:00</td>\n",
              "      <td>F9 v1.0  B0005</td>\n",
              "      <td>CCAFS LC-40</td>\n",
              "      <td>Dragon demo flight C2+</td>\n",
              "      <td>525.0</td>\n",
              "      <td>LEO (ISS)</td>\n",
              "      <td>NASA (COTS)</td>\n",
              "      <td>Success</td>\n",
              "      <td>No attempt</td>\n",
              "      <td>Public</td>\n",
              "      <td>True</td>\n",
              "      <td>True</td>\n",
              "    </tr>\n",
              "    <tr>\n",
              "      <th>3</th>\n",
              "      <td>4</td>\n",
              "      <td>2012-10-08</td>\n",
              "      <td>0:35:00</td>\n",
              "      <td>F9 v1.0  B0006</td>\n",
              "      <td>CCAFS LC-40</td>\n",
              "      <td>SpaceX CRS-1</td>\n",
              "      <td>500.0</td>\n",
              "      <td>LEO (ISS)</td>\n",
              "      <td>NASA (CRS)</td>\n",
              "      <td>Success</td>\n",
              "      <td>No attempt</td>\n",
              "      <td>Public</td>\n",
              "      <td>True</td>\n",
              "      <td>True</td>\n",
              "    </tr>\n",
              "    <tr>\n",
              "      <th>4</th>\n",
              "      <td>5</td>\n",
              "      <td>2013-03-01</td>\n",
              "      <td>15:10:00</td>\n",
              "      <td>F9 v1.0  B0007</td>\n",
              "      <td>CCAFS LC-40</td>\n",
              "      <td>SpaceX CRS-2</td>\n",
              "      <td>677.0</td>\n",
              "      <td>LEO (ISS)</td>\n",
              "      <td>NASA (CRS)</td>\n",
              "      <td>Success</td>\n",
              "      <td>No attempt</td>\n",
              "      <td>Public</td>\n",
              "      <td>True</td>\n",
              "      <td>True</td>\n",
              "    </tr>\n",
              "  </tbody>\n",
              "</table>\n",
              "</div>"
            ],
            "text/plain": [
              "  Flight Number       Date Time (UTC) Booster Version  Launch Site                                            Payload  Payload Mass (kg)      Orbit         Customer Mission Outcome        Landing Outcome  PubPriv  Mission Success  Landing Success\n",
              "0             1 2010-06-04   18:45:00  F9 v1.0  B0003  CCAFS LC-40               Dragon Spacecraft Qualification Unit                0.0        LEO           SpaceX         Success  Failure   (parachute)  Private             True            False\n",
              "1             2 2010-12-08   15:43:00  F9 v1.0  B0004  CCAFS LC-40  Dragon demo flight C1, two CubeSats,  barrel o...                0.0  LEO (ISS)  NASA (COTS) NRO         Success  Failure   (parachute)   Public             True            False\n",
              "2             3 2012-05-22    7:44:00  F9 v1.0  B0005  CCAFS LC-40                             Dragon demo flight C2+              525.0  LEO (ISS)      NASA (COTS)         Success             No attempt   Public             True             True\n",
              "3             4 2012-10-08    0:35:00  F9 v1.0  B0006  CCAFS LC-40                                       SpaceX CRS-1              500.0  LEO (ISS)       NASA (CRS)         Success             No attempt   Public             True             True\n",
              "4             5 2013-03-01   15:10:00  F9 v1.0  B0007  CCAFS LC-40                                       SpaceX CRS-2              677.0  LEO (ISS)       NASA (CRS)         Success             No attempt   Public             True             True"
            ]
          },
          "metadata": {
            "tags": []
          },
          "execution_count": 41
        }
      ]
    },
    {
      "cell_type": "markdown",
      "metadata": {
        "id": "WrZD7ThoFzq0",
        "colab_type": "text"
      },
      "source": [
        "Possible viz\n",
        "\n",
        "\n",
        "1.   launch date frequency (is it increasing)\n",
        "2.   launches distrbuted by location\n",
        "3. Is there a correlation between location and failure?\n",
        "4. correlation between payload size and failure\n",
        "5. payload customers and size and frequecy of being a customer\n",
        "6. landing successes vs year (more attempts at retrieval?)\n",
        "\n",
        "Data manipulation:\n",
        "\n",
        "1. column of (Fail, Success, no attempt)\n",
        "2. column of customers (private, government)\n",
        "\n",
        "Outline:\n",
        "\n",
        "\n",
        "\n",
        "1.   Intro with some SpaceX history\n",
        "2. Increasing amount of business/payloads (include payload mass viz)\n",
        "3.   Public vs Private customers (include 'who are customers\" and pubpriv barchart viz)\n",
        "4. Profitability\n",
        ">a. different charges based on customer type (include viz)\n",
        "\n",
        ">>b. costs. Is spacex profitable?\n",
        "\n",
        "\n",
        "\n",
        "\n",
        "\n",
        "\n"
      ]
    },
    {
      "cell_type": "code",
      "metadata": {
        "id": "pZqIls8gek84",
        "colab_type": "code",
        "colab": {}
      },
      "source": [
        "import numpy as np\n",
        "import seaborn as sns\n",
        "import matplotlib.pyplot as plt"
      ],
      "execution_count": 0,
      "outputs": []
    },
    {
      "cell_type": "code",
      "metadata": {
        "id": "ymKdBnECgRs_",
        "colab_type": "code",
        "outputId": "70b269d9-09ab-4f36-c117-e799ce1360f4",
        "colab": {
          "base_uri": "https://localhost:8080/",
          "height": 340
        }
      },
      "source": [
        "df3.info()"
      ],
      "execution_count": 42,
      "outputs": [
        {
          "output_type": "stream",
          "text": [
            "<class 'pandas.core.frame.DataFrame'>\n",
            "Int64Index: 77 entries, 0 to 78\n",
            "Data columns (total 14 columns):\n",
            "Flight Number        77 non-null object\n",
            "Date                 77 non-null datetime64[ns]\n",
            "Time (UTC)           77 non-null object\n",
            "Booster Version      77 non-null object\n",
            "Launch Site          77 non-null object\n",
            "Payload              77 non-null object\n",
            "Payload Mass (kg)    77 non-null float64\n",
            "Orbit                77 non-null object\n",
            "Customer             77 non-null object\n",
            "Mission Outcome      77 non-null object\n",
            "Landing Outcome      77 non-null object\n",
            "PubPriv              77 non-null object\n",
            "Mission Success      77 non-null bool\n",
            "Landing Success      77 non-null bool\n",
            "dtypes: bool(2), datetime64[ns](1), float64(1), object(10)\n",
            "memory usage: 10.5+ KB\n"
          ],
          "name": "stdout"
        }
      ]
    },
    {
      "cell_type": "code",
      "metadata": {
        "id": "ArAlbrJ6gClT",
        "colab_type": "code",
        "outputId": "9692d559-5ae1-45b8-bc01-7caca4d96254",
        "colab": {
          "base_uri": "https://localhost:8080/",
          "height": 848
        }
      },
      "source": [
        "sns.set(rc={'figure.figsize':(12,7)})\n",
        "plt.style.use('fivethirtyeight')\n",
        "plt.xticks(rotation=270)\n",
        "plt.title(\"Landing Successes\", loc='right')\n",
        "sns.countplot(x=\"Landing Outcome\", data=df3, order=df3['Landing Outcome'].value_counts().index, palette=\"Greens_d\");\n",
        "plt.savefig('landingsuccess.png', bbox_inches='tight')"
      ],
      "execution_count": 24,
      "outputs": [
        {
          "output_type": "display_data",
          "data": {
            "image/png": "[encoded data removed]",
            "text/plain": [
              "<Figure size 864x504 with 1 Axes>"
            ]
          },
          "metadata": {
            "tags": []
          }
        }
      ]
    },
    {
      "cell_type": "code",
      "metadata": {
        "id": "QUdhcCTNgWkN",
        "colab_type": "code",
        "outputId": "7fe9945c-e445-4c5b-e057-b5ef94eeb9e5",
        "colab": {
          "base_uri": "https://localhost:8080/",
          "height": 693
        }
      },
      "source": [
        "sns.set(rc={'figure.figsize':(12,7)})\n",
        "# sns.set(rc={'figure.figsize':(15,8)})\n",
        "plt.style.use('fivethirtyeight')\n",
        "plt.xticks(rotation=270)\n",
        "plt.title(\"Who are the Customers?\", loc='right')\n",
        "sns.countplot(x=\"Customer\", data=df3, order=df3['Customer'].value_counts().index, palette='Greens_d');\n",
        "plt.savefig('customercount.png', bbox_inches='tight')"
      ],
      "execution_count": 25,
      "outputs": [
        {
          "output_type": "display_data",
          "data": {
            "image/png": "[encoded data removed]",
            "text/plain": [
              "<Figure size 864x504 with 1 Axes>"
            ]
          },
          "metadata": {
            "tags": []
          }
        }
      ]
    },
    {
      "cell_type": "code",
      "metadata": {
        "id": "3dBHAxr_kfrn",
        "colab_type": "code",
        "outputId": "7a1a25bb-300e-4b63-8aad-15fba78e1f9d",
        "colab": {
          "base_uri": "https://localhost:8080/",
          "height": 525
        }
      },
      "source": [
        "sns.set(rc={'figure.figsize':(12,7)})\n",
        "# sns.set(rc={'figure.figsize':(15,8)})\n",
        "plt.style.use('fivethirtyeight')\n",
        "plt.title(\"Customer Type Totals\", loc='right')\n",
        "plt.xticks(rotation=270)\n",
        "plt.xlabel('xlabel', fontsize=18)\n",
        "sns.countplot(x=\"PubPriv\", data=df3, palette=\"Greens_d\");\n",
        "plt.savefig('customertypes.png', bbox_inches='tight')"
      ],
      "execution_count": 26,
      "outputs": [
        {
          "output_type": "display_data",
          "data": {
            "image/png": "[encoded data removed]",
            "text/plain": [
              "<Figure size 864x504 with 1 Axes>"
            ]
          },
          "metadata": {
            "tags": []
          }
        }
      ]
    },
    {
      "cell_type": "code",
      "metadata": {
        "id": "K69OHrvreaco",
        "colab_type": "code",
        "colab": {
          "base_uri": "https://localhost:8080/",
          "height": 361
        },
        "outputId": "e7e42bef-0010-4e2e-d96c-863973ca2a7e"
      },
      "source": [
        "sns.set(rc={'figure.figsize':(12,7)})\n",
        "# sns.set(rc={'figure.figsize':(15,8)})\n",
        "plt.style.use('fivethirtyeight')\n",
        "# sns.title(\"Customer Type vs. Payload Size\", loc='right')\n",
        "g = sns.catplot(x=\"PubPriv\", y=\"Payload Mass (kg)\", data=df3, palette=\"Greens_d\", kind='violin', inner=None);\n",
        "g.set_axis_labels(\"Public vs. Private\").set_titles(\"Customer Type vs. Payload Mass\", loc='right');\n",
        "plt.savefig('payloadmassviolin.png', bbox_inches='tight')"
      ],
      "execution_count": 27,
      "outputs": [
        {
          "output_type": "display_data",
          "data": {
            "image/png": "[encoded data removed]",
            "text/plain": [
              "<Figure size 360x360 with 1 Axes>"
            ]
          },
          "metadata": {
            "tags": []
          }
        }
      ]
    },
    {
      "cell_type": "code",
      "metadata": {
        "id": "6mHwGiTjn8rf",
        "colab_type": "code",
        "outputId": "0eb1c6ae-e83a-4e13-f747-b1e297dfae97",
        "colab": {
          "base_uri": "https://localhost:8080/",
          "height": 221
        }
      },
      "source": [
        "df3.Customer.unique()"
      ],
      "execution_count": 0,
      "outputs": [
        {
          "output_type": "execute_result",
          "data": {
            "text/plain": [
              "array(['SpaceX', 'NASA (COTS) NRO', 'NASA (COTS)', 'NASA (CRS)', 'MDA',\n",
              "       'SES', 'Thaicom', 'Orbcomm', 'AsiaSat', 'U.S. Air Force NASA NOAA',\n",
              "       'ABS Eutelsat', 'Turkmenistan National Space Agency',\n",
              "       'NASA (LSP) NOAA CNES', 'SKY Perfect JSAT Group',\n",
              "       'Iridium Communications', 'EchoStar', 'Inmarsat', 'Bulsatcom',\n",
              "       'Intelsat', 'NSPO', 'U.S. Air Force', 'SES EchoStar',\n",
              "       'KT Corporation', 'Hisdesat exactEarth SpaceX',\n",
              "       'Hispasat  NovaWurks', 'NASA (LSP)', 'Thales-Alenia/BTRC',\n",
              "       'Iridium Communications GFZ • NASA', 'Telesat', 'Telkom Indonesia',\n",
              "       'CONAE', \"Es'hailSat\", 'Spaceflight Industries',\n",
              "       'PSN SpaceIL / IAI Air Force Research', 'NASA (CCD)', 'Arabsat',\n",
              "       'NASA', 'Canadian Space Agency'], dtype=object)"
            ]
          },
          "metadata": {
            "tags": []
          },
          "execution_count": 20
        }
      ]
    },
    {
      "cell_type": "code",
      "metadata": {
        "id": "qvGajtqSpKl5",
        "colab_type": "code",
        "colab": {}
      },
      "source": [
        "sorted(df3[\"Payload Mass (kg)\"].unique())"
      ],
      "execution_count": 0,
      "outputs": []
    },
    {
      "cell_type": "code",
      "metadata": {
        "id": "pYS-W56ksAjU",
        "colab_type": "code",
        "outputId": "2ee105ba-0265-49ed-9a44-e54699efd5ca",
        "colab": {
          "base_uri": "https://localhost:8080/",
          "height": 142
        }
      },
      "source": [
        "payload_bins = pd.cut(df3['Payload Mass (kg)'],10)\n",
        "#pd.crosstab(df3['Customer'], payload_bins) \n",
        "pd.crosstab(df3.PubPriv, payload_bins)"
      ],
      "execution_count": 12,
      "outputs": [
        {
          "output_type": "execute_result",
          "data": {
            "text/html": [
              "<div>\n",
              "<style scoped>\n",
              "    .dataframe tbody tr th:only-of-type {\n",
              "        vertical-align: middle;\n",
              "    }\n",
              "\n",
              "    .dataframe tbody tr th {\n",
              "        vertical-align: top;\n",
              "    }\n",
              "\n",
              "    .dataframe thead th {\n",
              "        text-align: right;\n",
              "    }\n",
              "</style>\n",
              "<table border=\"1\" class=\"dataframe\">\n",
              "  <thead>\n",
              "    <tr style=\"text-align: right;\">\n",
              "      <th>Payload Mass (kg)</th>\n",
              "      <th>(-16.8, 1680.0]</th>\n",
              "      <th>(1680.0, 3360.0]</th>\n",
              "      <th>(3360.0, 5040.0]</th>\n",
              "      <th>(5040.0, 6720.0]</th>\n",
              "      <th>(6720.0, 8400.0]</th>\n",
              "      <th>(8400.0, 10080.0]</th>\n",
              "      <th>(11760.0, 13440.0]</th>\n",
              "      <th>(15120.0, 16800.0]</th>\n",
              "    </tr>\n",
              "    <tr>\n",
              "      <th>PubPriv</th>\n",
              "      <th></th>\n",
              "      <th></th>\n",
              "      <th></th>\n",
              "      <th></th>\n",
              "      <th></th>\n",
              "      <th></th>\n",
              "      <th></th>\n",
              "      <th></th>\n",
              "    </tr>\n",
              "  </thead>\n",
              "  <tbody>\n",
              "    <tr>\n",
              "      <th>Private</th>\n",
              "      <td>5</td>\n",
              "      <td>6</td>\n",
              "      <td>12</td>\n",
              "      <td>10</td>\n",
              "      <td>3</td>\n",
              "      <td>7</td>\n",
              "      <td>0</td>\n",
              "      <td>1</td>\n",
              "    </tr>\n",
              "    <tr>\n",
              "      <th>Public</th>\n",
              "      <td>7</td>\n",
              "      <td>15</td>\n",
              "      <td>7</td>\n",
              "      <td>3</td>\n",
              "      <td>0</td>\n",
              "      <td>0</td>\n",
              "      <td>1</td>\n",
              "      <td>0</td>\n",
              "    </tr>\n",
              "  </tbody>\n",
              "</table>\n",
              "</div>"
            ],
            "text/plain": [
              "Payload Mass (kg)  (-16.8, 1680.0]  (1680.0, 3360.0]  (3360.0, 5040.0]  (5040.0, 6720.0]  (6720.0, 8400.0]  (8400.0, 10080.0]  (11760.0, 13440.0]  (15120.0, 16800.0]\n",
              "PubPriv                                                                                                                                                              \n",
              "Private                          5                 6                12                10                 3                  7                   0                   1\n",
              "Public                           7                15                 7                 3                 0                  0                   1                   0"
            ]
          },
          "metadata": {
            "tags": []
          },
          "execution_count": 12
        }
      ]
    },
    {
      "cell_type": "code",
      "metadata": {
        "id": "NpA1uhg04AVV",
        "colab_type": "code",
        "outputId": "ea678486-6c97-44f0-bdde-6fb58284efb1",
        "colab": {
          "base_uri": "https://localhost:8080/",
          "height": 142
        }
      },
      "source": [
        "pd.crosstab(df3.PubPriv, df3['Mission Success'])"
      ],
      "execution_count": 0,
      "outputs": [
        {
          "output_type": "execute_result",
          "data": {
            "text/html": [
              "<div>\n",
              "<style scoped>\n",
              "    .dataframe tbody tr th:only-of-type {\n",
              "        vertical-align: middle;\n",
              "    }\n",
              "\n",
              "    .dataframe tbody tr th {\n",
              "        vertical-align: top;\n",
              "    }\n",
              "\n",
              "    .dataframe thead th {\n",
              "        text-align: right;\n",
              "    }\n",
              "</style>\n",
              "<table border=\"1\" class=\"dataframe\">\n",
              "  <thead>\n",
              "    <tr style=\"text-align: right;\">\n",
              "      <th>Mission Success</th>\n",
              "      <th>False</th>\n",
              "      <th>True</th>\n",
              "    </tr>\n",
              "    <tr>\n",
              "      <th>PubPriv</th>\n",
              "      <th></th>\n",
              "      <th></th>\n",
              "    </tr>\n",
              "  </thead>\n",
              "  <tbody>\n",
              "    <tr>\n",
              "      <th>Private</th>\n",
              "      <td>0</td>\n",
              "      <td>44</td>\n",
              "    </tr>\n",
              "    <tr>\n",
              "      <th>Public</th>\n",
              "      <td>1</td>\n",
              "      <td>32</td>\n",
              "    </tr>\n",
              "  </tbody>\n",
              "</table>\n",
              "</div>"
            ],
            "text/plain": [
              "Mission Success  False  True \n",
              "PubPriv                      \n",
              "Private              0     44\n",
              "Public               1     32"
            ]
          },
          "metadata": {
            "tags": []
          },
          "execution_count": 11
        }
      ]
    },
    {
      "cell_type": "code",
      "metadata": {
        "id": "x2TpjF3C0qKD",
        "colab_type": "code",
        "outputId": "a51baeb6-d1a5-4804-c158-39c6916554d1",
        "colab": {
          "base_uri": "https://localhost:8080/",
          "height": 142
        }
      },
      "source": [
        "pd.crosstab(df3.PubPriv, df3['Landing Success'])"
      ],
      "execution_count": 0,
      "outputs": [
        {
          "output_type": "execute_result",
          "data": {
            "text/html": [
              "<div>\n",
              "<style scoped>\n",
              "    .dataframe tbody tr th:only-of-type {\n",
              "        vertical-align: middle;\n",
              "    }\n",
              "\n",
              "    .dataframe tbody tr th {\n",
              "        vertical-align: top;\n",
              "    }\n",
              "\n",
              "    .dataframe thead th {\n",
              "        text-align: right;\n",
              "    }\n",
              "</style>\n",
              "<table border=\"1\" class=\"dataframe\">\n",
              "  <thead>\n",
              "    <tr style=\"text-align: right;\">\n",
              "      <th>Landing Success</th>\n",
              "      <th>False</th>\n",
              "      <th>True</th>\n",
              "    </tr>\n",
              "    <tr>\n",
              "      <th>PubPriv</th>\n",
              "      <th></th>\n",
              "      <th></th>\n",
              "    </tr>\n",
              "  </thead>\n",
              "  <tbody>\n",
              "    <tr>\n",
              "      <th>Private</th>\n",
              "      <td>3</td>\n",
              "      <td>41</td>\n",
              "    </tr>\n",
              "    <tr>\n",
              "      <th>Public</th>\n",
              "      <td>6</td>\n",
              "      <td>27</td>\n",
              "    </tr>\n",
              "  </tbody>\n",
              "</table>\n",
              "</div>"
            ],
            "text/plain": [
              "Landing Success  False  True \n",
              "PubPriv                      \n",
              "Private              3     41\n",
              "Public               6     27"
            ]
          },
          "metadata": {
            "tags": []
          },
          "execution_count": 12
        }
      ]
    },
    {
      "cell_type": "code",
      "metadata": {
        "id": "JFZvUwZM0sHK",
        "colab_type": "code",
        "outputId": "466e9d9d-d495-4059-e318-abbe45301dd9",
        "colab": {
          "base_uri": "https://localhost:8080/",
          "height": 173
        }
      },
      "source": [
        "pd.crosstab(df3.PubPriv, df3['Date'].dt.year, margins=True, normalize=True)"
      ],
      "execution_count": 0,
      "outputs": [
        {
          "output_type": "execute_result",
          "data": {
            "text/html": [
              "<div>\n",
              "<style scoped>\n",
              "    .dataframe tbody tr th:only-of-type {\n",
              "        vertical-align: middle;\n",
              "    }\n",
              "\n",
              "    .dataframe tbody tr th {\n",
              "        vertical-align: top;\n",
              "    }\n",
              "\n",
              "    .dataframe thead th {\n",
              "        text-align: right;\n",
              "    }\n",
              "</style>\n",
              "<table border=\"1\" class=\"dataframe\">\n",
              "  <thead>\n",
              "    <tr style=\"text-align: right;\">\n",
              "      <th>Date</th>\n",
              "      <th>2010</th>\n",
              "      <th>2012</th>\n",
              "      <th>2013</th>\n",
              "      <th>2014</th>\n",
              "      <th>2015</th>\n",
              "      <th>2016</th>\n",
              "      <th>2017</th>\n",
              "      <th>2018</th>\n",
              "      <th>2019</th>\n",
              "      <th>All</th>\n",
              "    </tr>\n",
              "    <tr>\n",
              "      <th>PubPriv</th>\n",
              "      <th></th>\n",
              "      <th></th>\n",
              "      <th></th>\n",
              "      <th></th>\n",
              "      <th></th>\n",
              "      <th></th>\n",
              "      <th></th>\n",
              "      <th></th>\n",
              "      <th></th>\n",
              "      <th></th>\n",
              "    </tr>\n",
              "  </thead>\n",
              "  <tbody>\n",
              "    <tr>\n",
              "      <th>Private</th>\n",
              "      <td>0.012987</td>\n",
              "      <td>0.000000</td>\n",
              "      <td>0.025974</td>\n",
              "      <td>0.051948</td>\n",
              "      <td>0.025974</td>\n",
              "      <td>0.064935</td>\n",
              "      <td>0.155844</td>\n",
              "      <td>0.194805</td>\n",
              "      <td>0.038961</td>\n",
              "      <td>0.571429</td>\n",
              "    </tr>\n",
              "    <tr>\n",
              "      <th>Public</th>\n",
              "      <td>0.012987</td>\n",
              "      <td>0.025974</td>\n",
              "      <td>0.012987</td>\n",
              "      <td>0.025974</td>\n",
              "      <td>0.064935</td>\n",
              "      <td>0.038961</td>\n",
              "      <td>0.064935</td>\n",
              "      <td>0.064935</td>\n",
              "      <td>0.116883</td>\n",
              "      <td>0.428571</td>\n",
              "    </tr>\n",
              "    <tr>\n",
              "      <th>All</th>\n",
              "      <td>0.025974</td>\n",
              "      <td>0.025974</td>\n",
              "      <td>0.038961</td>\n",
              "      <td>0.077922</td>\n",
              "      <td>0.090909</td>\n",
              "      <td>0.103896</td>\n",
              "      <td>0.220779</td>\n",
              "      <td>0.259740</td>\n",
              "      <td>0.155844</td>\n",
              "      <td>1.000000</td>\n",
              "    </tr>\n",
              "  </tbody>\n",
              "</table>\n",
              "</div>"
            ],
            "text/plain": [
              "Date         2010      2012      2013      2014      2015      2016      2017      2018      2019       All\n",
              "PubPriv                                                                                                    \n",
              "Private  0.012987  0.000000  0.025974  0.051948  0.025974  0.064935  0.155844  0.194805  0.038961  0.571429\n",
              "Public   0.012987  0.025974  0.012987  0.025974  0.064935  0.038961  0.064935  0.064935  0.116883  0.428571\n",
              "All      0.025974  0.025974  0.038961  0.077922  0.090909  0.103896  0.220779  0.259740  0.155844  1.000000"
            ]
          },
          "metadata": {
            "tags": []
          },
          "execution_count": 13
        }
      ]
    },
    {
      "cell_type": "code",
      "metadata": {
        "id": "uwVUilH33Xyd",
        "colab_type": "code",
        "outputId": "e2c9e29f-de33-4a0f-dfc9-d30b147fa1c9",
        "colab": {
          "base_uri": "https://localhost:8080/",
          "height": 173
        }
      },
      "source": [
        "pd.crosstab(df3.PubPriv, df3['Date'].dt.month, margins=True, normalize=True)"
      ],
      "execution_count": 0,
      "outputs": [
        {
          "output_type": "execute_result",
          "data": {
            "text/html": [
              "<div>\n",
              "<style scoped>\n",
              "    .dataframe tbody tr th:only-of-type {\n",
              "        vertical-align: middle;\n",
              "    }\n",
              "\n",
              "    .dataframe tbody tr th {\n",
              "        vertical-align: top;\n",
              "    }\n",
              "\n",
              "    .dataframe thead th {\n",
              "        text-align: right;\n",
              "    }\n",
              "</style>\n",
              "<table border=\"1\" class=\"dataframe\">\n",
              "  <thead>\n",
              "    <tr style=\"text-align: right;\">\n",
              "      <th>Date</th>\n",
              "      <th>1</th>\n",
              "      <th>2</th>\n",
              "      <th>3</th>\n",
              "      <th>4</th>\n",
              "      <th>5</th>\n",
              "      <th>6</th>\n",
              "      <th>7</th>\n",
              "      <th>8</th>\n",
              "      <th>9</th>\n",
              "      <th>10</th>\n",
              "      <th>11</th>\n",
              "      <th>12</th>\n",
              "      <th>All</th>\n",
              "    </tr>\n",
              "    <tr>\n",
              "      <th>PubPriv</th>\n",
              "      <th></th>\n",
              "      <th></th>\n",
              "      <th></th>\n",
              "      <th></th>\n",
              "      <th></th>\n",
              "      <th></th>\n",
              "      <th></th>\n",
              "      <th></th>\n",
              "      <th></th>\n",
              "      <th></th>\n",
              "      <th></th>\n",
              "      <th></th>\n",
              "      <th></th>\n",
              "    </tr>\n",
              "  </thead>\n",
              "  <tbody>\n",
              "    <tr>\n",
              "      <th>Private</th>\n",
              "      <td>0.051948</td>\n",
              "      <td>0.038961</td>\n",
              "      <td>0.077922</td>\n",
              "      <td>0.000000</td>\n",
              "      <td>0.077922</td>\n",
              "      <td>0.064935</td>\n",
              "      <td>0.051948</td>\n",
              "      <td>0.051948</td>\n",
              "      <td>0.038961</td>\n",
              "      <td>0.051948</td>\n",
              "      <td>0.012987</td>\n",
              "      <td>0.051948</td>\n",
              "      <td>0.571429</td>\n",
              "    </tr>\n",
              "    <tr>\n",
              "      <th>Public</th>\n",
              "      <td>0.025974</td>\n",
              "      <td>0.025974</td>\n",
              "      <td>0.025974</td>\n",
              "      <td>0.116883</td>\n",
              "      <td>0.025974</td>\n",
              "      <td>0.090909</td>\n",
              "      <td>0.012987</td>\n",
              "      <td>0.012987</td>\n",
              "      <td>0.025974</td>\n",
              "      <td>0.012987</td>\n",
              "      <td>0.000000</td>\n",
              "      <td>0.051948</td>\n",
              "      <td>0.428571</td>\n",
              "    </tr>\n",
              "    <tr>\n",
              "      <th>All</th>\n",
              "      <td>0.077922</td>\n",
              "      <td>0.064935</td>\n",
              "      <td>0.103896</td>\n",
              "      <td>0.116883</td>\n",
              "      <td>0.103896</td>\n",
              "      <td>0.155844</td>\n",
              "      <td>0.064935</td>\n",
              "      <td>0.064935</td>\n",
              "      <td>0.064935</td>\n",
              "      <td>0.064935</td>\n",
              "      <td>0.012987</td>\n",
              "      <td>0.103896</td>\n",
              "      <td>1.000000</td>\n",
              "    </tr>\n",
              "  </tbody>\n",
              "</table>\n",
              "</div>"
            ],
            "text/plain": [
              "Date            1         2         3         4         5         6         7         8         9        10        11        12       All\n",
              "PubPriv                                                                                                                                  \n",
              "Private  0.051948  0.038961  0.077922  0.000000  0.077922  0.064935  0.051948  0.051948  0.038961  0.051948  0.012987  0.051948  0.571429\n",
              "Public   0.025974  0.025974  0.025974  0.116883  0.025974  0.090909  0.012987  0.012987  0.025974  0.012987  0.000000  0.051948  0.428571\n",
              "All      0.077922  0.064935  0.103896  0.116883  0.103896  0.155844  0.064935  0.064935  0.064935  0.064935  0.012987  0.103896  1.000000"
            ]
          },
          "metadata": {
            "tags": []
          },
          "execution_count": 14
        }
      ]
    },
    {
      "cell_type": "code",
      "metadata": {
        "id": "NdgraEPuTJNM",
        "colab_type": "code",
        "outputId": "fcb1a9bd-f611-49f8-ebcb-7a85ce743bc5",
        "colab": {
          "base_uri": "https://localhost:8080/",
          "height": 328
        }
      },
      "source": [
        "pd.crosstab(df3['Launch Site'], df3['Date'].dt.year, margins=True, normalize=True)"
      ],
      "execution_count": 0,
      "outputs": [
        {
          "output_type": "execute_result",
          "data": {
            "text/html": [
              "<div>\n",
              "<style scoped>\n",
              "    .dataframe tbody tr th:only-of-type {\n",
              "        vertical-align: middle;\n",
              "    }\n",
              "\n",
              "    .dataframe tbody tr th {\n",
              "        vertical-align: top;\n",
              "    }\n",
              "\n",
              "    .dataframe thead th {\n",
              "        text-align: right;\n",
              "    }\n",
              "</style>\n",
              "<table border=\"1\" class=\"dataframe\">\n",
              "  <thead>\n",
              "    <tr style=\"text-align: right;\">\n",
              "      <th>Date</th>\n",
              "      <th>2010</th>\n",
              "      <th>2012</th>\n",
              "      <th>2013</th>\n",
              "      <th>2014</th>\n",
              "      <th>2015</th>\n",
              "      <th>2016</th>\n",
              "      <th>2017</th>\n",
              "      <th>2018</th>\n",
              "      <th>2019</th>\n",
              "      <th>All</th>\n",
              "    </tr>\n",
              "    <tr>\n",
              "      <th>Launch Site</th>\n",
              "      <th></th>\n",
              "      <th></th>\n",
              "      <th></th>\n",
              "      <th></th>\n",
              "      <th></th>\n",
              "      <th></th>\n",
              "      <th></th>\n",
              "      <th></th>\n",
              "      <th></th>\n",
              "      <th></th>\n",
              "    </tr>\n",
              "  </thead>\n",
              "  <tbody>\n",
              "    <tr>\n",
              "      <th>CCAFS LC-40</th>\n",
              "      <td>0.025974</td>\n",
              "      <td>0.025974</td>\n",
              "      <td>0.025974</td>\n",
              "      <td>0.077922</td>\n",
              "      <td>0.090909</td>\n",
              "      <td>0.090909</td>\n",
              "      <td>0.000000</td>\n",
              "      <td>0.000000</td>\n",
              "      <td>0.000000</td>\n",
              "      <td>0.337662</td>\n",
              "    </tr>\n",
              "    <tr>\n",
              "      <th>CCAFS SLC-40</th>\n",
              "      <td>0.000000</td>\n",
              "      <td>0.000000</td>\n",
              "      <td>0.000000</td>\n",
              "      <td>0.000000</td>\n",
              "      <td>0.000000</td>\n",
              "      <td>0.000000</td>\n",
              "      <td>0.012987</td>\n",
              "      <td>0.064935</td>\n",
              "      <td>0.000000</td>\n",
              "      <td>0.077922</td>\n",
              "    </tr>\n",
              "    <tr>\n",
              "      <th>CCAFSSLC-40</th>\n",
              "      <td>0.000000</td>\n",
              "      <td>0.000000</td>\n",
              "      <td>0.000000</td>\n",
              "      <td>0.000000</td>\n",
              "      <td>0.000000</td>\n",
              "      <td>0.000000</td>\n",
              "      <td>0.000000</td>\n",
              "      <td>0.077922</td>\n",
              "      <td>0.038961</td>\n",
              "      <td>0.116883</td>\n",
              "    </tr>\n",
              "    <tr>\n",
              "      <th>KSC LC-39A</th>\n",
              "      <td>0.000000</td>\n",
              "      <td>0.000000</td>\n",
              "      <td>0.000000</td>\n",
              "      <td>0.000000</td>\n",
              "      <td>0.000000</td>\n",
              "      <td>0.000000</td>\n",
              "      <td>0.142857</td>\n",
              "      <td>0.025974</td>\n",
              "      <td>0.000000</td>\n",
              "      <td>0.168831</td>\n",
              "    </tr>\n",
              "    <tr>\n",
              "      <th>KSCLC-39A</th>\n",
              "      <td>0.000000</td>\n",
              "      <td>0.000000</td>\n",
              "      <td>0.000000</td>\n",
              "      <td>0.000000</td>\n",
              "      <td>0.000000</td>\n",
              "      <td>0.000000</td>\n",
              "      <td>0.000000</td>\n",
              "      <td>0.012987</td>\n",
              "      <td>0.090909</td>\n",
              "      <td>0.103896</td>\n",
              "    </tr>\n",
              "    <tr>\n",
              "      <th>VAFB SLC-4E</th>\n",
              "      <td>0.000000</td>\n",
              "      <td>0.000000</td>\n",
              "      <td>0.012987</td>\n",
              "      <td>0.000000</td>\n",
              "      <td>0.000000</td>\n",
              "      <td>0.012987</td>\n",
              "      <td>0.064935</td>\n",
              "      <td>0.038961</td>\n",
              "      <td>0.000000</td>\n",
              "      <td>0.129870</td>\n",
              "    </tr>\n",
              "    <tr>\n",
              "      <th>VAFBSLC-4E</th>\n",
              "      <td>0.000000</td>\n",
              "      <td>0.000000</td>\n",
              "      <td>0.000000</td>\n",
              "      <td>0.000000</td>\n",
              "      <td>0.000000</td>\n",
              "      <td>0.000000</td>\n",
              "      <td>0.000000</td>\n",
              "      <td>0.038961</td>\n",
              "      <td>0.025974</td>\n",
              "      <td>0.064935</td>\n",
              "    </tr>\n",
              "    <tr>\n",
              "      <th>All</th>\n",
              "      <td>0.025974</td>\n",
              "      <td>0.025974</td>\n",
              "      <td>0.038961</td>\n",
              "      <td>0.077922</td>\n",
              "      <td>0.090909</td>\n",
              "      <td>0.103896</td>\n",
              "      <td>0.220779</td>\n",
              "      <td>0.259740</td>\n",
              "      <td>0.155844</td>\n",
              "      <td>1.000000</td>\n",
              "    </tr>\n",
              "  </tbody>\n",
              "</table>\n",
              "</div>"
            ],
            "text/plain": [
              "Date              2010      2012      2013      2014      2015      2016      2017      2018      2019       All\n",
              "Launch Site                                                                                                     \n",
              "CCAFS LC-40   0.025974  0.025974  0.025974  0.077922  0.090909  0.090909  0.000000  0.000000  0.000000  0.337662\n",
              "CCAFS SLC-40  0.000000  0.000000  0.000000  0.000000  0.000000  0.000000  0.012987  0.064935  0.000000  0.077922\n",
              "CCAFSSLC-40   0.000000  0.000000  0.000000  0.000000  0.000000  0.000000  0.000000  0.077922  0.038961  0.116883\n",
              "KSC LC-39A    0.000000  0.000000  0.000000  0.000000  0.000000  0.000000  0.142857  0.025974  0.000000  0.168831\n",
              "KSCLC-39A     0.000000  0.000000  0.000000  0.000000  0.000000  0.000000  0.000000  0.012987  0.090909  0.103896\n",
              "VAFB SLC-4E   0.000000  0.000000  0.012987  0.000000  0.000000  0.012987  0.064935  0.038961  0.000000  0.129870\n",
              "VAFBSLC-4E    0.000000  0.000000  0.000000  0.000000  0.000000  0.000000  0.000000  0.038961  0.025974  0.064935\n",
              "All           0.025974  0.025974  0.038961  0.077922  0.090909  0.103896  0.220779  0.259740  0.155844  1.000000"
            ]
          },
          "metadata": {
            "tags": []
          },
          "execution_count": 15
        }
      ]
    },
    {
      "cell_type": "code",
      "metadata": {
        "id": "OEYOm3ImTcdm",
        "colab_type": "code",
        "outputId": "6008567a-5abd-455d-bb64-7994e6e65a67",
        "colab": {
          "base_uri": "https://localhost:8080/",
          "height": 328
        }
      },
      "source": [
        "pd.crosstab(df3['Launch Site'], df3['Date'].dt.month, margins=True, normalize=True)"
      ],
      "execution_count": 0,
      "outputs": [
        {
          "output_type": "execute_result",
          "data": {
            "text/html": [
              "<div>\n",
              "<style scoped>\n",
              "    .dataframe tbody tr th:only-of-type {\n",
              "        vertical-align: middle;\n",
              "    }\n",
              "\n",
              "    .dataframe tbody tr th {\n",
              "        vertical-align: top;\n",
              "    }\n",
              "\n",
              "    .dataframe thead th {\n",
              "        text-align: right;\n",
              "    }\n",
              "</style>\n",
              "<table border=\"1\" class=\"dataframe\">\n",
              "  <thead>\n",
              "    <tr style=\"text-align: right;\">\n",
              "      <th>Date</th>\n",
              "      <th>1</th>\n",
              "      <th>2</th>\n",
              "      <th>3</th>\n",
              "      <th>4</th>\n",
              "      <th>5</th>\n",
              "      <th>6</th>\n",
              "      <th>7</th>\n",
              "      <th>8</th>\n",
              "      <th>9</th>\n",
              "      <th>10</th>\n",
              "      <th>11</th>\n",
              "      <th>12</th>\n",
              "      <th>All</th>\n",
              "    </tr>\n",
              "    <tr>\n",
              "      <th>Launch Site</th>\n",
              "      <th></th>\n",
              "      <th></th>\n",
              "      <th></th>\n",
              "      <th></th>\n",
              "      <th></th>\n",
              "      <th></th>\n",
              "      <th></th>\n",
              "      <th></th>\n",
              "      <th></th>\n",
              "      <th></th>\n",
              "      <th></th>\n",
              "      <th></th>\n",
              "      <th></th>\n",
              "    </tr>\n",
              "  </thead>\n",
              "  <tbody>\n",
              "    <tr>\n",
              "      <th>CCAFS LC-40</th>\n",
              "      <td>0.025974</td>\n",
              "      <td>0.012987</td>\n",
              "      <td>0.038961</td>\n",
              "      <td>0.051948</td>\n",
              "      <td>0.038961</td>\n",
              "      <td>0.038961</td>\n",
              "      <td>0.025974</td>\n",
              "      <td>0.025974</td>\n",
              "      <td>0.025974</td>\n",
              "      <td>0.012987</td>\n",
              "      <td>0.000000</td>\n",
              "      <td>0.038961</td>\n",
              "      <td>0.337662</td>\n",
              "    </tr>\n",
              "    <tr>\n",
              "      <th>CCAFS SLC-40</th>\n",
              "      <td>0.012987</td>\n",
              "      <td>0.000000</td>\n",
              "      <td>0.012987</td>\n",
              "      <td>0.025974</td>\n",
              "      <td>0.000000</td>\n",
              "      <td>0.012987</td>\n",
              "      <td>0.000000</td>\n",
              "      <td>0.000000</td>\n",
              "      <td>0.000000</td>\n",
              "      <td>0.000000</td>\n",
              "      <td>0.000000</td>\n",
              "      <td>0.012987</td>\n",
              "      <td>0.077922</td>\n",
              "    </tr>\n",
              "    <tr>\n",
              "      <th>CCAFSSLC-40</th>\n",
              "      <td>0.000000</td>\n",
              "      <td>0.012987</td>\n",
              "      <td>0.000000</td>\n",
              "      <td>0.000000</td>\n",
              "      <td>0.025974</td>\n",
              "      <td>0.012987</td>\n",
              "      <td>0.012987</td>\n",
              "      <td>0.012987</td>\n",
              "      <td>0.012987</td>\n",
              "      <td>0.000000</td>\n",
              "      <td>0.000000</td>\n",
              "      <td>0.025974</td>\n",
              "      <td>0.116883</td>\n",
              "    </tr>\n",
              "    <tr>\n",
              "      <th>KSC LC-39A</th>\n",
              "      <td>0.000000</td>\n",
              "      <td>0.025974</td>\n",
              "      <td>0.025974</td>\n",
              "      <td>0.000000</td>\n",
              "      <td>0.025974</td>\n",
              "      <td>0.025974</td>\n",
              "      <td>0.012987</td>\n",
              "      <td>0.012987</td>\n",
              "      <td>0.012987</td>\n",
              "      <td>0.025974</td>\n",
              "      <td>0.000000</td>\n",
              "      <td>0.000000</td>\n",
              "      <td>0.168831</td>\n",
              "    </tr>\n",
              "    <tr>\n",
              "      <th>KSCLC-39A</th>\n",
              "      <td>0.000000</td>\n",
              "      <td>0.000000</td>\n",
              "      <td>0.012987</td>\n",
              "      <td>0.038961</td>\n",
              "      <td>0.000000</td>\n",
              "      <td>0.038961</td>\n",
              "      <td>0.000000</td>\n",
              "      <td>0.000000</td>\n",
              "      <td>0.000000</td>\n",
              "      <td>0.000000</td>\n",
              "      <td>0.012987</td>\n",
              "      <td>0.000000</td>\n",
              "      <td>0.103896</td>\n",
              "    </tr>\n",
              "    <tr>\n",
              "      <th>VAFB SLC-4E</th>\n",
              "      <td>0.025974</td>\n",
              "      <td>0.012987</td>\n",
              "      <td>0.012987</td>\n",
              "      <td>0.000000</td>\n",
              "      <td>0.012987</td>\n",
              "      <td>0.012987</td>\n",
              "      <td>0.000000</td>\n",
              "      <td>0.012987</td>\n",
              "      <td>0.012987</td>\n",
              "      <td>0.012987</td>\n",
              "      <td>0.000000</td>\n",
              "      <td>0.012987</td>\n",
              "      <td>0.129870</td>\n",
              "    </tr>\n",
              "    <tr>\n",
              "      <th>VAFBSLC-4E</th>\n",
              "      <td>0.012987</td>\n",
              "      <td>0.000000</td>\n",
              "      <td>0.000000</td>\n",
              "      <td>0.000000</td>\n",
              "      <td>0.000000</td>\n",
              "      <td>0.012987</td>\n",
              "      <td>0.012987</td>\n",
              "      <td>0.000000</td>\n",
              "      <td>0.000000</td>\n",
              "      <td>0.012987</td>\n",
              "      <td>0.000000</td>\n",
              "      <td>0.012987</td>\n",
              "      <td>0.064935</td>\n",
              "    </tr>\n",
              "    <tr>\n",
              "      <th>All</th>\n",
              "      <td>0.077922</td>\n",
              "      <td>0.064935</td>\n",
              "      <td>0.103896</td>\n",
              "      <td>0.116883</td>\n",
              "      <td>0.103896</td>\n",
              "      <td>0.155844</td>\n",
              "      <td>0.064935</td>\n",
              "      <td>0.064935</td>\n",
              "      <td>0.064935</td>\n",
              "      <td>0.064935</td>\n",
              "      <td>0.012987</td>\n",
              "      <td>0.103896</td>\n",
              "      <td>1.000000</td>\n",
              "    </tr>\n",
              "  </tbody>\n",
              "</table>\n",
              "</div>"
            ],
            "text/plain": [
              "Date                 1         2         3         4         5         6         7         8         9        10        11        12       All\n",
              "Launch Site                                                                                                                                   \n",
              "CCAFS LC-40   0.025974  0.012987  0.038961  0.051948  0.038961  0.038961  0.025974  0.025974  0.025974  0.012987  0.000000  0.038961  0.337662\n",
              "CCAFS SLC-40  0.012987  0.000000  0.012987  0.025974  0.000000  0.012987  0.000000  0.000000  0.000000  0.000000  0.000000  0.012987  0.077922\n",
              "CCAFSSLC-40   0.000000  0.012987  0.000000  0.000000  0.025974  0.012987  0.012987  0.012987  0.012987  0.000000  0.000000  0.025974  0.116883\n",
              "KSC LC-39A    0.000000  0.025974  0.025974  0.000000  0.025974  0.025974  0.012987  0.012987  0.012987  0.025974  0.000000  0.000000  0.168831\n",
              "KSCLC-39A     0.000000  0.000000  0.012987  0.038961  0.000000  0.038961  0.000000  0.000000  0.000000  0.000000  0.012987  0.000000  0.103896\n",
              "VAFB SLC-4E   0.025974  0.012987  0.012987  0.000000  0.012987  0.012987  0.000000  0.012987  0.012987  0.012987  0.000000  0.012987  0.129870\n",
              "VAFBSLC-4E    0.012987  0.000000  0.000000  0.000000  0.000000  0.012987  0.012987  0.000000  0.000000  0.012987  0.000000  0.012987  0.064935\n",
              "All           0.077922  0.064935  0.103896  0.116883  0.103896  0.155844  0.064935  0.064935  0.064935  0.064935  0.012987  0.103896  1.000000"
            ]
          },
          "metadata": {
            "tags": []
          },
          "execution_count": 16
        }
      ]
    },
    {
      "cell_type": "code",
      "metadata": {
        "id": "Tjq-Me9FThw6",
        "colab_type": "code",
        "colab": {}
      },
      "source": [
        "pd.crosstab(df3['Booster Version'], payload_bins) #, margins=True, normalize=True)"
      ],
      "execution_count": 0,
      "outputs": []
    },
    {
      "cell_type": "code",
      "metadata": {
        "id": "bazZtTwtAt9N",
        "colab_type": "code",
        "outputId": "022f39d0-e7a7-48bb-e481-904c4b195dd1",
        "colab": {
          "base_uri": "https://localhost:8080/",
          "height": 496
        }
      },
      "source": [
        "fig = plt.figure(figsize=(12,7))\n",
        "plt.style.use('fivethirtyeight')\n",
        "plt.title(\"Payload mass trend\", loc='right')\n",
        "# sns.set_style('fivethirtyeight')\n",
        "# sns.lineplot(df3['Date'], df3['Payload Mass (kg)'], markers=True, )\n",
        "# sns.regplot(x='Date',y='Payload Mass (kg)', data=df3, fit_reg=True)\n",
        "# ax = fig.add_subplot(111)\n",
        "fig.text(.83, .82, s=\"Starlink\")\n",
        "sns.lineplot(x='Date', y='Payload Mass (kg)', data=df3, markers=True, marker='o', color='g') ;\n",
        "plt.savefig('payloadtrend.png', bbox_inches='tight')"
      ],
      "execution_count": 28,
      "outputs": [
        {
          "output_type": "display_data",
          "data": {
            "image/png": "[encoded data removed]",
            "text/plain": [
              "<Figure size 864x504 with 1 Axes>"
            ]
          },
          "metadata": {
            "tags": []
          }
        }
      ]
    },
    {
      "cell_type": "code",
      "metadata": {
        "id": "jCldIvE-0IIP",
        "colab_type": "code",
        "colab": {}
      },
      "source": [
        "from scipy import stats"
      ],
      "execution_count": 0,
      "outputs": []
    },
    {
      "cell_type": "code",
      "metadata": {
        "id": "L1MtLKvew35x",
        "colab_type": "code",
        "colab": {
          "base_uri": "https://localhost:8080/",
          "height": 187
        },
        "outputId": "5c736d98-a2d5-4325-b6c8-2e2d93ce355a"
      },
      "source": [
        "ms = pd.crosstab(df3.PubPriv, df3['Mission Success'])\n",
        "print(ms)\n",
        "# chisquare(np.array(ms.values), axis='None')\n",
        "chi_squared, p_value, dof, expected = stats.chi2_contingency(ms)\n",
        "print(f\"Chi-Squared: {chi_squared}\")\n",
        "print(f\"P-value: {p_value}\")\n",
        "print(f\"Degrees of Freedom: {dof}\") \n",
        "print(\"Expected: \\n\", np.array(expected))"
      ],
      "execution_count": 28,
      "outputs": [
        {
          "output_type": "stream",
          "text": [
            "Mission Success  False  True \n",
            "PubPriv                      \n",
            "Private              0     44\n",
            "Public               1     32\n",
            "Chi-Squared: 0.02110745614035086\n",
            "P-value: 0.8844866047688582\n",
            "Degrees of Freedom: 1\n",
            "Expected: \n",
            " [[ 0.57142857 43.42857143]\n",
            " [ 0.42857143 32.57142857]]\n"
          ],
          "name": "stdout"
        }
      ]
    },
    {
      "cell_type": "code",
      "metadata": {
        "id": "lKe7weZoxGu5",
        "colab_type": "code",
        "colab": {
          "base_uri": "https://localhost:8080/",
          "height": 187
        },
        "outputId": "5a17fcf7-fb7e-4db4-9722-e5084e9cd042"
      },
      "source": [
        "ls = pd.crosstab(df3.PubPriv, df3['Landing Success'])\n",
        "print(ls)\n",
        "# chisquare(np.array(ms.values), axis='None')\n",
        "chi_squared, p_value, dof, expected = stats.chi2_contingency(ls)\n",
        "print(f\"Chi-Squared: {chi_squared}\")\n",
        "print(f\"P-value: {p_value}\")\n",
        "print(f\"Degrees of Freedom: {dof}\") \n",
        "print(\"Expected: \\n\", np.array(expected))"
      ],
      "execution_count": 31,
      "outputs": [
        {
          "output_type": "stream",
          "text": [
            "Landing Success  False  True \n",
            "PubPriv                      \n",
            "Private              3     41\n",
            "Public               6     27\n",
            "Chi-Squared: 1.3866081154684098\n",
            "P-value: 0.2389787438736849\n",
            "Degrees of Freedom: 1\n",
            "Expected: \n",
            " [[ 5.14285714 38.85714286]\n",
            " [ 3.85714286 29.14285714]]\n"
          ],
          "name": "stdout"
        }
      ]
    },
    {
      "cell_type": "code",
      "metadata": {
        "id": "dotZePf00a5W",
        "colab_type": "code",
        "outputId": "c12f776f-1e8c-423d-e254-db0f7296957c",
        "colab": {
          "base_uri": "https://localhost:8080/",
          "height": 54
        }
      },
      "source": [
        "df3.columns"
      ],
      "execution_count": 0,
      "outputs": [
        {
          "output_type": "execute_result",
          "data": {
            "text/plain": [
              "Index(['Flight Number', 'Date', 'Time (UTC)', 'Booster Version', 'Launch Site', 'Payload', 'Payload Mass (kg)', 'Orbit', 'Customer', 'Mission Outcome', 'Landing Outcome', 'PubPriv', 'Mission Success', 'Landing Success'], dtype='object')"
            ]
          },
          "metadata": {
            "tags": []
          },
          "execution_count": 14
        }
      ]
    },
    {
      "cell_type": "code",
      "metadata": {
        "id": "R-lnTVi62Pze",
        "colab_type": "code",
        "colab": {
          "base_uri": "https://localhost:8080/",
          "height": 255
        },
        "outputId": "24ab7492-83f7-46a1-a12d-3c2cce6d12dc"
      },
      "source": [
        "skipcolumns = ['Flight Number', 'Time (UTC)', 'Mission Outcome', 'Landing Outcome', 'PubPriv', 'Mission Success', 'Landing Success']\n",
        "for column in df3:\n",
        "  if column in skipcolumns: # only look at categorical variables \n",
        "    continue \n",
        "  #create contingency table crosstabs\n",
        "  ct = pd.crosstab(df3['Landing Success'], df3[column])\n",
        "  chi2, p_value, dof, expected = stats.chi2_contingency(ct.values)\n",
        "  print(\"For the categories of \", column, \"and Landing Success:\\n Chi^2 is\", chi2, \" and the p-value is\", p_value)"
      ],
      "execution_count": 33,
      "outputs": [
        {
          "output_type": "stream",
          "text": [
            "For the category of  Date and Landing Success:\n",
            " Chi^2 is 70.54139433551198  and the p-value is 0.5265876672737101\n",
            "For the category of  Booster Version and Landing Success:\n",
            " Chi^2 is 77.0  and the p-value is 0.32179946180543684\n",
            "For the category of  Launch Site and Landing Success:\n",
            " Chi^2 is 6.479064367912407  and the p-value is 0.3717145423050601\n",
            "For the category of  Payload and Landing Success:\n",
            " Chi^2 is 70.54139433551198  and the p-value is 0.5265876672737101\n",
            "For the category of  Payload Mass (kg) and Landing Success:\n",
            " Chi^2 is 65.69744008714594  and the p-value is 0.35001388071669753\n",
            "For the category of  Orbit and Landing Success:\n",
            " Chi^2 is 7.616122004357298  and the p-value is 0.5732456357562299\n",
            "For the category of  Customer and Landing Success:\n",
            " Chi^2 is 26.58250953159042  and the p-value is 0.8976746451081468\n"
          ],
          "name": "stdout"
        }
      ]
    },
    {
      "cell_type": "code",
      "metadata": {
        "id": "rwOMnyAt4-jN",
        "colab_type": "code",
        "colab": {
          "base_uri": "https://localhost:8080/",
          "height": 255
        },
        "outputId": "7527ee61-cdba-438d-a692-b3cc5d94048a"
      },
      "source": [
        "skipcolumns = ['Flight Number', 'Time (UTC)', 'Mission Outcome', 'Landing Outcome', 'PubPriv', 'Mission Success', 'Landing Success']\n",
        "for column in df3:\n",
        "  if column in skipcolumns: # only look at categorical variables \n",
        "    continue \n",
        "  #create contingency table crosstabs\n",
        "  ct = pd.crosstab(df3['Mission Success'], df3[column])\n",
        "  chi2, p_value, dof, expected = stats.chi2_contingency(ct.values)\n",
        "  print(\"For the categories of \", column, \"and Mission Success:\\n Chi^2 is\", chi2, \" and the p-value is\", p_value)"
      ],
      "execution_count": 35,
      "outputs": [
        {
          "output_type": "stream",
          "text": [
            "For the categories of  Date and Mission Success:\n",
            " Chi^2 is 76.99999999999997  and the p-value is 0.32179946180543767\n",
            "For the categories of  Booster Version and Mission Success:\n",
            " Chi^2 is 77.0  and the p-value is 0.32179946180543684\n",
            "For the categories of  Launch Site and Mission Success:\n",
            " Chi^2 is 1.9873481781376519  and the p-value is 0.9208585010979066\n",
            "For the categories of  Payload and Mission Success:\n",
            " Chi^2 is 77.0  and the p-value is 0.32179946180543684\n",
            "For the categories of  Payload Mass (kg) and Mission Success:\n",
            " Chi^2 is 76.99999999999993  and the p-value is 0.0950387008241219\n",
            "For the categories of  Orbit and Mission Success:\n",
            " Chi^2 is 2.8874999999999993  and the p-value is 0.9685885129886487\n",
            "For the categories of  Customer and Mission Success:\n",
            " Chi^2 is 3.862664473684208  and the p-value is 0.9999999999988733\n"
          ],
          "name": "stdout"
        }
      ]
    },
    {
      "cell_type": "code",
      "metadata": {
        "id": "pQ2oA77I5GxD",
        "colab_type": "code",
        "colab": {
          "base_uri": "https://localhost:8080/",
          "height": 255
        },
        "outputId": "6b7d14f5-c1a5-47db-9387-c83f46e33692"
      },
      "source": [
        "skipcolumns = ['Flight Number', 'Time (UTC)', 'Mission Outcome', 'Landing Outcome', 'PubPriv', 'Mission Success', 'Landing Success']\n",
        "for column in df3:\n",
        "  if column in skipcolumns: # only look at categorical variables \n",
        "    continue \n",
        "  #create contingency table crosstabs\n",
        "  ct = pd.crosstab(df3['PubPriv'], df3[column])\n",
        "  chi2, p_value, dof, expected = stats.chi2_contingency(ct.values)\n",
        "  print(\"For the categories of \", column, \"and Customer Type:\\n Chi^2 is\", chi2, \" and the p-value is\", p_value)"
      ],
      "execution_count": 36,
      "outputs": [
        {
          "output_type": "stream",
          "text": [
            "For the categories of  Date and Customer Type:\n",
            " Chi^2 is 77.0  and the p-value is 0.32179946180543684\n",
            "For the categories of  Booster Version and Customer Type:\n",
            " Chi^2 is 73.73333333333332  and the p-value is 0.4212161457157325\n",
            "For the categories of  Launch Site and Customer Type:\n",
            " Chi^2 is 13.436983618233619  and the p-value is 0.036598251564632416\n",
            "For the categories of  Payload and Customer Type:\n",
            " Chi^2 is 77.0  and the p-value is 0.32179946180543684\n",
            "For the categories of  Payload Mass (kg) and Customer Type:\n",
            " Chi^2 is 72.91666666666669  and the p-value is 0.16178167647776806\n",
            "For the categories of  Orbit and Customer Type:\n",
            " Chi^2 is 53.74444444444444  and the p-value is 2.1111856025685524e-08\n",
            "For the categories of  Customer and Customer Type:\n",
            " Chi^2 is 77.0  and the p-value is 0.0001253424062437993\n"
          ],
          "name": "stdout"
        }
      ]
    },
    {
      "cell_type": "code",
      "metadata": {
        "id": "VRL-TKop5UZB",
        "colab_type": "code",
        "colab": {
          "base_uri": "https://localhost:8080/",
          "height": 173
        },
        "outputId": "831dfcf9-215e-48f9-ae52-d59ed7d37d45"
      },
      "source": [
        "orbit_ct = pd.crosstab(df3.PubPriv, df3['Orbit'], margins=True)\n",
        "orbit_ct"
      ],
      "execution_count": 12,
      "outputs": [
        {
          "output_type": "execute_result",
          "data": {
            "text/html": [
              "<div>\n",
              "<style scoped>\n",
              "    .dataframe tbody tr th:only-of-type {\n",
              "        vertical-align: middle;\n",
              "    }\n",
              "\n",
              "    .dataframe tbody tr th {\n",
              "        vertical-align: top;\n",
              "    }\n",
              "\n",
              "    .dataframe thead th {\n",
              "        text-align: right;\n",
              "    }\n",
              "</style>\n",
              "<table border=\"1\" class=\"dataframe\">\n",
              "  <thead>\n",
              "    <tr style=\"text-align: right;\">\n",
              "      <th>Orbit</th>\n",
              "      <th>GTO</th>\n",
              "      <th>HEO</th>\n",
              "      <th>Heliocentric 0.99–1.67 AU  (close to Mars transfer orbit)</th>\n",
              "      <th>LEO</th>\n",
              "      <th>LEO (ISS)</th>\n",
              "      <th>LEO / MEO</th>\n",
              "      <th>MEO</th>\n",
              "      <th>Polar LEO</th>\n",
              "      <th>SSO</th>\n",
              "      <th>Sun–Earth L1</th>\n",
              "      <th>All</th>\n",
              "    </tr>\n",
              "    <tr>\n",
              "      <th>PubPriv</th>\n",
              "      <th></th>\n",
              "      <th></th>\n",
              "      <th></th>\n",
              "      <th></th>\n",
              "      <th></th>\n",
              "      <th></th>\n",
              "      <th></th>\n",
              "      <th></th>\n",
              "      <th></th>\n",
              "      <th></th>\n",
              "      <th></th>\n",
              "    </tr>\n",
              "  </thead>\n",
              "  <tbody>\n",
              "    <tr>\n",
              "      <th>Private</th>\n",
              "      <td>26</td>\n",
              "      <td>0</td>\n",
              "      <td>1</td>\n",
              "      <td>5</td>\n",
              "      <td>0</td>\n",
              "      <td>0</td>\n",
              "      <td>0</td>\n",
              "      <td>8</td>\n",
              "      <td>3</td>\n",
              "      <td>0</td>\n",
              "      <td>43</td>\n",
              "    </tr>\n",
              "    <tr>\n",
              "      <th>Public</th>\n",
              "      <td>4</td>\n",
              "      <td>1</td>\n",
              "      <td>0</td>\n",
              "      <td>2</td>\n",
              "      <td>20</td>\n",
              "      <td>3</td>\n",
              "      <td>1</td>\n",
              "      <td>0</td>\n",
              "      <td>2</td>\n",
              "      <td>1</td>\n",
              "      <td>34</td>\n",
              "    </tr>\n",
              "    <tr>\n",
              "      <th>All</th>\n",
              "      <td>30</td>\n",
              "      <td>1</td>\n",
              "      <td>1</td>\n",
              "      <td>7</td>\n",
              "      <td>20</td>\n",
              "      <td>3</td>\n",
              "      <td>1</td>\n",
              "      <td>8</td>\n",
              "      <td>5</td>\n",
              "      <td>1</td>\n",
              "      <td>77</td>\n",
              "    </tr>\n",
              "  </tbody>\n",
              "</table>\n",
              "</div>"
            ],
            "text/plain": [
              "Orbit    GTO  HEO  Heliocentric 0.99–1.67 AU  (close to Mars transfer orbit)  LEO  LEO (ISS)  LEO / MEO  MEO  Polar LEO  SSO  Sun–Earth L1  All\n",
              "PubPriv                                                                                                                                        \n",
              "Private   26    0                                                  1            5          0          0    0          8    3             0   43\n",
              "Public     4    1                                                  0            2         20          3    1          0    2             1   34\n",
              "All       30    1                                                  1            7         20          3    1          8    5             1   77"
            ]
          },
          "metadata": {
            "tags": []
          },
          "execution_count": 12
        }
      ]
    },
    {
      "cell_type": "code",
      "metadata": {
        "id": "0NU4v1WfCllX",
        "colab_type": "code",
        "colab": {
          "base_uri": "https://localhost:8080/",
          "height": 68
        },
        "outputId": "f00454b4-db80-4e25-c363-3a6be3a25754"
      },
      "source": [
        "df3.Orbit.unique()"
      ],
      "execution_count": 39,
      "outputs": [
        {
          "output_type": "execute_result",
          "data": {
            "text/plain": [
              "array(['LEO', 'LEO (ISS)', 'Polar LEO', 'GTO', 'Sun–Earth L1', 'SSO',\n",
              "       'Heliocentric 0.99–1.67 AU  (close to Mars transfer orbit)', 'HEO',\n",
              "       'MEO', 'LEO / MEO'], dtype=object)"
            ]
          },
          "metadata": {
            "tags": []
          },
          "execution_count": 39
        }
      ]
    },
    {
      "cell_type": "code",
      "metadata": {
        "id": "3_ILZcy8HY-t",
        "colab_type": "code",
        "colab": {
          "base_uri": "https://localhost:8080/",
          "height": 496
        },
        "outputId": "aaf227f7-a2e5-468e-d587-fe7d1ebb6217"
      },
      "source": [
        "frequency = pd.crosstab(df3['Date'].dt.year, df3.PubPriv)\n",
        "plt.style.use('fivethirtyeight')\n",
        "frequency.plot.line(marker='o', markersize=10)\n",
        "plt.legend(title='Customer Type')\n",
        "plt.title(\"Public vs. Private\", loc='right')\n",
        "plt.savefig('customertypebyyear.png', bbox_inches='tight')\n",
        "plt.show()"
      ],
      "execution_count": 30,
      "outputs": [
        {
          "output_type": "display_data",
          "data": {
            "image/png": "[encoded data removed]",
            "text/plain": [
              "<Figure size 864x504 with 1 Axes>"
            ]
          },
          "metadata": {
            "tags": []
          }
        }
      ]
    },
    {
      "cell_type": "code",
      "metadata": {
        "id": "7G2GrLSIPACa",
        "colab_type": "code",
        "colab": {}
      },
      "source": [
        ""
      ],
      "execution_count": 0,
      "outputs": []
    }
  ]
}